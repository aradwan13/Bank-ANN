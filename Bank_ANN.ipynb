{
  "nbformat": 4,
  "nbformat_minor": 0,
  "metadata": {
    "colab": {
      "private_outputs": true,
      "provenance": []
    },
    "kernelspec": {
      "name": "python3",
      "display_name": "Python 3"
    },
    "language_info": {
      "name": "python"
    }
  },
  "cells": [
    {
      "cell_type": "code",
      "execution_count": null,
      "metadata": {
        "id": "RVfm7pOoxufA"
      },
      "outputs": [],
      "source": [
        "import numpy as np\n",
        "import pandas as pd\n",
        "import matplotlib.pyplot as plt\n",
        "import seaborn as sns\n",
        "%matplotlib inline\n",
        "# sns.set()"
      ]
    },
    {
      "cell_type": "code",
      "source": [
        "from sklearn.preprocessing import LabelEncoder\n",
        "enc= LabelEncoder()"
      ],
      "metadata": {
        "id": "1AIV5E-b1Suz"
      },
      "execution_count": null,
      "outputs": []
    },
    {
      "cell_type": "code",
      "source": [
        "df = pd.read_csv('/content/drive/MyDrive/case_studies/bank-full.csv',sep=\";\")\n",
        "pd.set_option('display.max_columns', None)\n",
        "df"
      ],
      "metadata": {
        "id": "ocF9ZjhgzaMD"
      },
      "execution_count": null,
      "outputs": []
    },
    {
      "cell_type": "code",
      "source": [
        "df.info()"
      ],
      "metadata": {
        "id": "qWlVGn1mzaJO"
      },
      "execution_count": null,
      "outputs": []
    },
    {
      "cell_type": "code",
      "source": [
        "df.describe(include='object')"
      ],
      "metadata": {
        "id": "VD0LpRh2zaGN"
      },
      "execution_count": null,
      "outputs": []
    },
    {
      "cell_type": "code",
      "source": [
        "df.describe()"
      ],
      "metadata": {
        "id": "-fq_hbmT4e3D"
      },
      "execution_count": null,
      "outputs": []
    },
    {
      "cell_type": "code",
      "source": [
        "df['marital'].value_counts(normalize= True)"
      ],
      "metadata": {
        "id": "sMJIuIFszZ28"
      },
      "execution_count": null,
      "outputs": []
    },
    {
      "cell_type": "code",
      "source": [
        "df['marital'] = enc.fit_transform(df['marital'])\n",
        "df['marital']"
      ],
      "metadata": {
        "id": "x4QRDtL31E00"
      },
      "execution_count": null,
      "outputs": []
    },
    {
      "cell_type": "code",
      "source": [
        "df['education'].value_counts(normalize=True)"
      ],
      "metadata": {
        "id": "O6VCac6J1Zaw"
      },
      "execution_count": null,
      "outputs": []
    },
    {
      "cell_type": "code",
      "source": [
        "df['education'] = enc.fit_transform(df['education'])\n",
        "df['education']"
      ],
      "metadata": {
        "id": "6VuOxNFp1fEP"
      },
      "execution_count": null,
      "outputs": []
    },
    {
      "cell_type": "code",
      "source": [
        "df['default'].value_counts(normalize=True)"
      ],
      "metadata": {
        "id": "Gr8E1He62FZn"
      },
      "execution_count": null,
      "outputs": []
    },
    {
      "cell_type": "code",
      "source": [
        "df['default']= pd.get_dummies(df['default'],drop_first=True)\n",
        "df['default']"
      ],
      "metadata": {
        "id": "NBffkb712DLI"
      },
      "execution_count": null,
      "outputs": []
    },
    {
      "cell_type": "code",
      "source": [
        "df['housing'].value_counts(normalize=True)"
      ],
      "metadata": {
        "id": "FR0aRFS02aaM"
      },
      "execution_count": null,
      "outputs": []
    },
    {
      "cell_type": "code",
      "source": [
        "df['housing']= pd.get_dummies(df['housing'],drop_first=True)\n",
        "df['housing']"
      ],
      "metadata": {
        "id": "aXb8wt983Xo2"
      },
      "execution_count": null,
      "outputs": []
    },
    {
      "cell_type": "code",
      "source": [
        "df['job'].value_counts()"
      ],
      "metadata": {
        "id": "QjmdQ5DZ3eW1"
      },
      "execution_count": null,
      "outputs": []
    },
    {
      "cell_type": "code",
      "source": [
        "df['job']"
      ],
      "metadata": {
        "id": "SsiC4eTr8sR_"
      },
      "execution_count": null,
      "outputs": []
    },
    {
      "cell_type": "code",
      "source": [
        "!pip install category_encoders"
      ],
      "metadata": {
        "id": "69xbJGZ78NfW"
      },
      "execution_count": null,
      "outputs": []
    },
    {
      "cell_type": "code",
      "source": [
        "from category_encoders import BinaryEncoder\n"
      ],
      "metadata": {
        "id": "wd8FCHFU8NZX"
      },
      "execution_count": null,
      "outputs": []
    },
    {
      "cell_type": "code",
      "source": [
        "Bi_Enc = BinaryEncoder()\n",
        "Transformed_df = Bi_Enc.fit_transform(df['job'])\n",
        "Transformed_df\n"
      ],
      "metadata": {
        "id": "2WkwEZ8u5VeP"
      },
      "execution_count": null,
      "outputs": []
    },
    {
      "cell_type": "code",
      "source": [
        "df_n= pd.concat([df,Transformed_df], axis=1)\n",
        "df_n"
      ],
      "metadata": {
        "id": "IDnyYIis9L6u"
      },
      "execution_count": null,
      "outputs": []
    },
    {
      "cell_type": "code",
      "source": [
        "df_n['marital'] = enc.fit_transform(df_n['marital'])\n",
        "df_n['marital']"
      ],
      "metadata": {
        "id": "qI8FpEQ29ax0"
      },
      "execution_count": null,
      "outputs": []
    },
    {
      "cell_type": "code",
      "source": [
        "df_n['education'] = enc.fit_transform(df_n['education'])\n",
        "df_n['education']"
      ],
      "metadata": {
        "id": "l-5_GFCO91vk"
      },
      "execution_count": null,
      "outputs": []
    },
    {
      "cell_type": "code",
      "source": [
        "df_n['default']= pd.get_dummies(df_n['default'],drop_first=True)\n",
        "df_n['default']"
      ],
      "metadata": {
        "id": "MVGGYEN_91tY"
      },
      "execution_count": null,
      "outputs": []
    },
    {
      "cell_type": "code",
      "source": [
        "df_n['housing'].value_counts()"
      ],
      "metadata": {
        "id": "KkURtV3_91qz"
      },
      "execution_count": null,
      "outputs": []
    },
    {
      "cell_type": "code",
      "source": [
        "df_n['housing']= pd.get_dummies(df_n['housing'],drop_first=True)\n",
        "df_n['housing']"
      ],
      "metadata": {
        "id": "GgvqKqQW91oK"
      },
      "execution_count": null,
      "outputs": []
    },
    {
      "cell_type": "code",
      "source": [
        "df_n['loan'].value_counts()"
      ],
      "metadata": {
        "id": "fKWD3Uvz91lh"
      },
      "execution_count": null,
      "outputs": []
    },
    {
      "cell_type": "code",
      "source": [
        "df_n['loan']= pd.get_dummies(df_n['loan'],drop_first=True)\n",
        "df_n['loan']"
      ],
      "metadata": {
        "id": "68BcD90z-Zox"
      },
      "execution_count": null,
      "outputs": []
    },
    {
      "cell_type": "code",
      "source": [
        "df_n['contact'].value_counts()"
      ],
      "metadata": {
        "id": "Zo8GIser-ZlD"
      },
      "execution_count": null,
      "outputs": []
    },
    {
      "cell_type": "code",
      "source": [
        "y=pd.get_dummies(df_n['contact'],drop_first=True)\n",
        "y"
      ],
      "metadata": {
        "id": "lVxw4p3t-Zg6"
      },
      "execution_count": null,
      "outputs": []
    },
    {
      "cell_type": "code",
      "source": [
        "df_n= pd.concat([df_n,y], axis=1)\n",
        "df_n"
      ],
      "metadata": {
        "id": "Pr3zBVuF-Zdk"
      },
      "execution_count": null,
      "outputs": []
    },
    {
      "cell_type": "code",
      "source": [
        "df_n['month'].value_counts()"
      ],
      "metadata": {
        "id": "6L7yu1w4ARkF"
      },
      "execution_count": null,
      "outputs": []
    },
    {
      "cell_type": "code",
      "source": [
        "x = Bi_Enc.fit_transform(df['month'])\n",
        "x"
      ],
      "metadata": {
        "id": "FYsu8ldJARg6"
      },
      "execution_count": null,
      "outputs": []
    },
    {
      "cell_type": "code",
      "source": [
        "df_n= pd.concat([df_n,x], axis=1)\n",
        "df_n"
      ],
      "metadata": {
        "id": "y0YTQDQMARdv"
      },
      "execution_count": null,
      "outputs": []
    },
    {
      "cell_type": "code",
      "source": [
        "df['poutcome'].value_counts()"
      ],
      "metadata": {
        "id": "RJZ6wEW2Arnh"
      },
      "execution_count": null,
      "outputs": []
    },
    {
      "cell_type": "code",
      "source": [
        "z= pd.get_dummies(df_n['poutcome'],drop_first=True)\n",
        "z"
      ],
      "metadata": {
        "id": "wd__baoeAri4"
      },
      "execution_count": null,
      "outputs": []
    },
    {
      "cell_type": "code",
      "source": [
        "df_n= pd.concat([df_n,z], axis=1)\n",
        "df_n"
      ],
      "metadata": {
        "id": "YSCJdpu-ArfP"
      },
      "execution_count": null,
      "outputs": []
    },
    {
      "cell_type": "code",
      "source": [
        "df_n['y'].value_counts()"
      ],
      "metadata": {
        "id": "__BRMtflBTqb"
      },
      "execution_count": null,
      "outputs": []
    },
    {
      "cell_type": "code",
      "source": [
        "df_n['y'] = pd.get_dummies(df_n['y'],drop_first=True)\n",
        "df_n['y']"
      ],
      "metadata": {
        "id": "lx6o49f6BTnr"
      },
      "execution_count": null,
      "outputs": []
    },
    {
      "cell_type": "code",
      "source": [
        "df_n.head()"
      ],
      "metadata": {
        "id": "oJ4-ix-xBTkw"
      },
      "execution_count": null,
      "outputs": []
    },
    {
      "cell_type": "code",
      "source": [],
      "metadata": {
        "id": "fHRwi0RyDp-t"
      },
      "execution_count": null,
      "outputs": []
    },
    {
      "cell_type": "code",
      "source": [
        "from sklearn.preprocessing import StandardScaler"
      ],
      "metadata": {
        "id": "HOWf7QZTBTdl"
      },
      "execution_count": null,
      "outputs": []
    },
    {
      "cell_type": "code",
      "source": [
        "sc = StandardScaler()"
      ],
      "metadata": {
        "id": "TgUmkQrIBw1h"
      },
      "execution_count": null,
      "outputs": []
    },
    {
      "cell_type": "code",
      "source": [
        "col = ['age','balance','duration']"
      ],
      "metadata": {
        "id": "c5ltC62-Bwuu"
      },
      "execution_count": null,
      "outputs": []
    },
    {
      "cell_type": "code",
      "source": [
        "X_train[col]= sc.fit_transform(X_train[col])\n",
        "X_train[col]"
      ],
      "metadata": {
        "id": "-iEI9d5UBwyX"
      },
      "execution_count": null,
      "outputs": []
    },
    {
      "cell_type": "code",
      "source": [
        "X_test[col]= sc.transform(X_test[col])\n",
        "X_test[col]"
      ],
      "metadata": {
        "id": "Fqx6bhU_EmZz"
      },
      "execution_count": null,
      "outputs": []
    },
    {
      "cell_type": "code",
      "source": [
        "df_n.columns"
      ],
      "metadata": {
        "id": "n2JKmDhzCutj"
      },
      "execution_count": null,
      "outputs": []
    },
    {
      "cell_type": "code",
      "source": [
        "X = df_n[['age', 'marital', 'education', 'default', 'balance', 'housing',\n",
        "       'loan',  'day',  'duration', 'campaign', 'pdays',\n",
        "       'previous',   'job_0', 'job_1', 'job_2', 'job_3',\n",
        "       'telephone', 'unknown', 'month_0', 'month_1', 'month_2', 'month_3',\n",
        "       'other', 'success', 'unknown']]\n",
        "X"
      ],
      "metadata": {
        "id": "GCF4LtDeCf1A"
      },
      "execution_count": null,
      "outputs": []
    },
    {
      "cell_type": "code",
      "source": [
        "y = df_n[['y']]\n",
        "y"
      ],
      "metadata": {
        "id": "5ItgMnNHDyRl"
      },
      "execution_count": null,
      "outputs": []
    },
    {
      "cell_type": "code",
      "source": [
        "X_train.shape"
      ],
      "metadata": {
        "id": "5cF-9BI5FoNl"
      },
      "execution_count": null,
      "outputs": []
    },
    {
      "cell_type": "code",
      "source": [
        "from sklearn.model_selection import train_test_split"
      ],
      "metadata": {
        "id": "2rIhgBVoCYPI"
      },
      "execution_count": null,
      "outputs": []
    },
    {
      "cell_type": "code",
      "source": [
        "X_train, X_test, y_train, y_test = train_test_split(X, y, test_size=0.33, random_state=42)"
      ],
      "metadata": {
        "id": "0fVSBZtfCdTl"
      },
      "execution_count": null,
      "outputs": []
    },
    {
      "cell_type": "code",
      "source": [
        "import tensorflow as tf"
      ],
      "metadata": {
        "id": "TcbDAG9uEGMv"
      },
      "execution_count": null,
      "outputs": []
    },
    {
      "cell_type": "code",
      "source": [
        "from keras.models import Sequential\n",
        "from keras.layers import Dense,Dropout,Activation,BatchNormalization"
      ],
      "metadata": {
        "id": "9E5AVAAcFccI"
      },
      "execution_count": null,
      "outputs": []
    },
    {
      "cell_type": "code",
      "source": [
        "ann = Sequential()\n",
        "\n",
        "ann.add(Dense(100, input_dim=27, activation = 'relu'))\n",
        "ann.add(Dropout(0.2))\n",
        "\n",
        "ann.add(Dense(100, activation='relu',))\n",
        "\n",
        "ann.add(Dense(50,  activation='relu'))\n",
        "\n",
        "ann.add(Dense(1,   activation='sigmoid'))\n"
      ],
      "metadata": {
        "id": "xDUQyEywFe6S"
      },
      "execution_count": null,
      "outputs": []
    },
    {
      "cell_type": "code",
      "source": [
        "ann.summary()"
      ],
      "metadata": {
        "id": "RXfpzzDjIkKe"
      },
      "execution_count": null,
      "outputs": []
    },
    {
      "cell_type": "code",
      "source": [
        "ann.compile(optimizer='adam', loss='binary_crossentropy', metrics=['accuracy'] )"
      ],
      "metadata": {
        "id": "bMVf8jF7Ij_2"
      },
      "execution_count": null,
      "outputs": []
    },
    {
      "cell_type": "code",
      "source": [
        "ann.fit(X_train,y_train , batch_size=512 , epochs=150, verbose='auto', validation_split=0.2)"
      ],
      "metadata": {
        "id": "vW8nxtIBIj5P"
      },
      "execution_count": null,
      "outputs": []
    },
    {
      "cell_type": "code",
      "source": [
        "ann.history.history.keys()"
      ],
      "metadata": {
        "id": "ejQ1YX08IjvW"
      },
      "execution_count": null,
      "outputs": []
    },
    {
      "cell_type": "code",
      "source": [
        "pd.DataFrame(ann.history.history)"
      ],
      "metadata": {
        "id": "-uWctYt0JW4a"
      },
      "execution_count": null,
      "outputs": []
    },
    {
      "cell_type": "code",
      "source": [
        "pd.DataFrame(ann.history.history).plot(figsize=(15,8))"
      ],
      "metadata": {
        "id": "4Qw71e5LJWzo"
      },
      "execution_count": null,
      "outputs": []
    },
    {
      "cell_type": "code",
      "source": [
        "y_pred = ann.predict(X_test)\n",
        "y_pred"
      ],
      "metadata": {
        "id": "CMuGQkhDJWwb"
      },
      "execution_count": null,
      "outputs": []
    },
    {
      "cell_type": "code",
      "source": [
        "y_prob = ann.predict(X_test) \n",
        "y_classes = y_prob.argmax(axis=-1)\n",
        "y_classes"
      ],
      "metadata": {
        "id": "z4VJLy7VbD9g"
      },
      "execution_count": null,
      "outputs": []
    },
    {
      "cell_type": "code",
      "source": [
        "#print(model.predict(sc.transform([[1, 0, 0, 600, 1, 40, 3, 60000, 2, 1, 1, 50000]])) > 0.5)"
      ],
      "metadata": {
        "id": "18xp_6rkbKdG"
      },
      "execution_count": null,
      "outputs": []
    },
    {
      "cell_type": "code",
      "source": [
        "type(y_pred)"
      ],
      "metadata": {
        "id": "8UJPoDOAbuu-"
      },
      "execution_count": null,
      "outputs": []
    },
    {
      "cell_type": "code",
      "source": [
        "preds = []\n",
        "for i in y_pred:\n",
        "  if i < 0.5:\n",
        "    preds.append(0)\n",
        "  else:\n",
        "     preds.append(1)\n",
        "\n",
        "print(preds)    "
      ],
      "metadata": {
        "id": "O_lzVrCjb71W"
      },
      "execution_count": null,
      "outputs": []
    },
    {
      "cell_type": "code",
      "source": [
        "len([0 if i < 0.5 else 1 for i in y_pred])"
      ],
      "metadata": {
        "id": "L8KnISyqdAhG"
      },
      "execution_count": null,
      "outputs": []
    },
    {
      "cell_type": "code",
      "source": [
        "y_pred = np.array([0 if i < 0.5 else 1 for i in y_pred])\n",
        "y_pred"
      ],
      "metadata": {
        "id": "R6e-RFkpeeGp"
      },
      "execution_count": null,
      "outputs": []
    },
    {
      "cell_type": "code",
      "source": [
        "y_pred.shape"
      ],
      "metadata": {
        "id": "8ugY0s5rerIa"
      },
      "execution_count": null,
      "outputs": []
    },
    {
      "cell_type": "code",
      "source": [
        "y_test = y_test.values"
      ],
      "metadata": {
        "id": "cwGoYIpdeMNw"
      },
      "execution_count": null,
      "outputs": []
    },
    {
      "cell_type": "code",
      "source": [
        "y_test "
      ],
      "metadata": {
        "id": "Xia7bwMKeV-6"
      },
      "execution_count": null,
      "outputs": []
    },
    {
      "cell_type": "code",
      "source": [
        "from sklearn.metrics import confusion_matrix, accuracy_score"
      ],
      "metadata": {
        "id": "dblhkl4Ce9S5"
      },
      "execution_count": null,
      "outputs": []
    },
    {
      "cell_type": "code",
      "source": [
        "accuracy_score(y_test, y_pred)"
      ],
      "metadata": {
        "id": "facElpB5fJac"
      },
      "execution_count": null,
      "outputs": []
    },
    {
      "cell_type": "code",
      "source": [
        "con=confusion_matrix(y_test, y_pred)\n",
        "f, ax = plt.subplots(figsize=(11, 8))\n",
        "sns.heatmap(con, annot=True, fmt='g',)\n",
        "plt.title('Confiusion Matrix')\n"
      ],
      "metadata": {
        "id": "5zyFURL1fA5W"
      },
      "execution_count": null,
      "outputs": []
    },
    {
      "cell_type": "code",
      "source": [],
      "metadata": {
        "id": "xAMAvqmZfXQO"
      },
      "execution_count": null,
      "outputs": []
    }
  ]
}